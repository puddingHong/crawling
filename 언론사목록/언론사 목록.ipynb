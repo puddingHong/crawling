{
 "cells": [
  {
   "cell_type": "markdown",
   "id": "770cbefc",
   "metadata": {},
   "source": [
    "# 네이버 뉴스 언론사 목록"
   ]
  },
  {
   "cell_type": "markdown",
   "id": "bc47e2c8",
   "metadata": {},
   "source": [
    "### 모듈 import"
   ]
  },
  {
   "cell_type": "code",
   "execution_count": 2,
   "id": "78b0db54",
   "metadata": {},
   "outputs": [],
   "source": [
    "import requests as req\n",
    "from bs4 import BeautifulSoup as bs\n",
    "import pandas as pd"
   ]
  },
  {
   "cell_type": "markdown",
   "id": "501a5058",
   "metadata": {},
   "source": [
    "### 크롤링할 주소"
   ]
  },
  {
   "cell_type": "code",
   "execution_count": 3,
   "id": "d3201688",
   "metadata": {},
   "outputs": [],
   "source": [
    "url = 'https://news.naver.com/main/officeList.naver'"
   ]
  },
  {
   "cell_type": "markdown",
   "id": "11426b61",
   "metadata": {},
   "source": [
    "### 헤더 설정"
   ]
  },
  {
   "cell_type": "markdown",
   "id": "a1d59741",
   "metadata": {},
   "source": [
    "그냥 주소를 가져오게 되면 ConnectionError 발생하므로 헤더 설정 필요함.  \n",
    "\n",
    "\n",
    "**개발자 도구 > 상단 '>>' 누르고 네트워크 선택 > 모두 > 최상단 파일 선택 > 요청 헤더 > user-agent 전체 복사**\n",
    "\n",
    "변수 지정하고 딕셔너리 형태로 붙여넣어야 함"
   ]
  },
  {
   "cell_type": "code",
   "execution_count": 4,
   "id": "0655be0c",
   "metadata": {},
   "outputs": [],
   "source": [
    "# 헤더 변수\n",
    "headers = {\n",
    "    'user-agent': 'Mozilla/5.0 (Windows NT 10.0; Win64; x64) AppleWebKit/537.36 (KHTML, like Gecko) Chrome/96.0.4664.110 Safari/537.36 Edg/96.0.1054.62'\n",
    "}"
   ]
  },
  {
   "cell_type": "code",
   "execution_count": 5,
   "id": "8143551a",
   "metadata": {},
   "outputs": [
    {
     "data": {
      "text/plain": [
       "<Response [200]>"
      ]
     },
     "execution_count": 5,
     "metadata": {},
     "output_type": "execute_result"
    }
   ],
   "source": [
    "res = req.get(url, headers = headers)\n",
    "res"
   ]
  },
  {
   "cell_type": "code",
   "execution_count": 6,
   "id": "8a14dbc9",
   "metadata": {},
   "outputs": [],
   "source": [
    "soup = bs(res.text, 'lxml')"
   ]
  },
  {
   "cell_type": "markdown",
   "id": "0aa0ad42",
   "metadata": {},
   "source": [
    "### 언론사 리스트"
   ]
  },
  {
   "cell_type": "code",
   "execution_count": 7,
   "id": "030e2c15",
   "metadata": {},
   "outputs": [],
   "source": [
    "news = soup.select( 'tbody > tr > td > ul > li > a')"
   ]
  },
  {
   "cell_type": "markdown",
   "id": "d30fd6ac",
   "metadata": {},
   "source": [
    "### 필요한 텍스트만 출력"
   ]
  },
  {
   "cell_type": "code",
   "execution_count": 8,
   "id": "df194fc9",
   "metadata": {},
   "outputs": [
    {
     "data": {
      "text/plain": [
       "'경향신문'"
      ]
     },
     "execution_count": 8,
     "metadata": {},
     "output_type": "execute_result"
    }
   ],
   "source": [
    "# 언론사 출력 예시\n",
    "news[0].text"
   ]
  },
  {
   "cell_type": "code",
   "execution_count": 9,
   "id": "0028017f",
   "metadata": {
    "scrolled": true
   },
   "outputs": [
    {
     "data": {
      "text/plain": [
       "'/main/list.naver?mode=LPOD&mid=sec&oid=032'"
      ]
     },
     "execution_count": 9,
     "metadata": {},
     "output_type": "execute_result"
    }
   ],
   "source": [
    "# 링크 출력 예시\n",
    "news[0]['href']"
   ]
  },
  {
   "cell_type": "code",
   "execution_count": 10,
   "id": "d9dbb4f2",
   "metadata": {},
   "outputs": [],
   "source": [
    "name_list = []\n",
    "link_list = []\n",
    "for i in news:\n",
    "    name = i.text\n",
    "    link = 'https://www.naver.com' + i['href']\n",
    "    name_list.append(name)\n",
    "    link_list.append(link)"
   ]
  },
  {
   "cell_type": "code",
   "execution_count": 11,
   "id": "90bd6510",
   "metadata": {},
   "outputs": [
    {
     "data": {
      "text/html": [
       "<div>\n",
       "<style scoped>\n",
       "    .dataframe tbody tr th:only-of-type {\n",
       "        vertical-align: middle;\n",
       "    }\n",
       "\n",
       "    .dataframe tbody tr th {\n",
       "        vertical-align: top;\n",
       "    }\n",
       "\n",
       "    .dataframe thead th {\n",
       "        text-align: right;\n",
       "    }\n",
       "</style>\n",
       "<table border=\"1\" class=\"dataframe\">\n",
       "  <thead>\n",
       "    <tr style=\"text-align: right;\">\n",
       "      <th></th>\n",
       "      <th>언론사</th>\n",
       "      <th>링크</th>\n",
       "    </tr>\n",
       "  </thead>\n",
       "  <tbody>\n",
       "    <tr>\n",
       "      <th>0</th>\n",
       "      <td>경향신문</td>\n",
       "      <td>https://www.naver.com/main/list.naver?mode=LPO...</td>\n",
       "    </tr>\n",
       "    <tr>\n",
       "      <th>1</th>\n",
       "      <td>국민일보</td>\n",
       "      <td>https://www.naver.com/main/list.naver?mode=LPO...</td>\n",
       "    </tr>\n",
       "    <tr>\n",
       "      <th>2</th>\n",
       "      <td>동아일보</td>\n",
       "      <td>https://www.naver.com/main/list.naver?mode=LPO...</td>\n",
       "    </tr>\n",
       "    <tr>\n",
       "      <th>3</th>\n",
       "      <td>문화일보</td>\n",
       "      <td>https://www.naver.com/main/list.naver?mode=LPO...</td>\n",
       "    </tr>\n",
       "    <tr>\n",
       "      <th>4</th>\n",
       "      <td>서울신문</td>\n",
       "      <td>https://www.naver.com/main/list.naver?mode=LPO...</td>\n",
       "    </tr>\n",
       "    <tr>\n",
       "      <th>...</th>\n",
       "      <td>...</td>\n",
       "      <td>...</td>\n",
       "    </tr>\n",
       "    <tr>\n",
       "      <th>72</th>\n",
       "      <td>부산일보</td>\n",
       "      <td>https://www.naver.com/main/list.naver?mode=LPO...</td>\n",
       "    </tr>\n",
       "    <tr>\n",
       "      <th>73</th>\n",
       "      <td>신화사 연합뉴스</td>\n",
       "      <td>https://www.naver.com/main/list.naver?mode=LPO...</td>\n",
       "    </tr>\n",
       "    <tr>\n",
       "      <th>74</th>\n",
       "      <td>AP연합뉴스</td>\n",
       "      <td>https://www.naver.com/main/list.naver?mode=LPO...</td>\n",
       "    </tr>\n",
       "    <tr>\n",
       "      <th>75</th>\n",
       "      <td>EPA연합뉴스</td>\n",
       "      <td>https://www.naver.com/main/list.naver?mode=LPO...</td>\n",
       "    </tr>\n",
       "    <tr>\n",
       "      <th>76</th>\n",
       "      <td>언론사 최신기사</td>\n",
       "      <td>https://www.naver.com/main/list.naver?mode=LSD...</td>\n",
       "    </tr>\n",
       "  </tbody>\n",
       "</table>\n",
       "<p>77 rows × 2 columns</p>\n",
       "</div>"
      ],
      "text/plain": [
       "         언론사                                                 링크\n",
       "0       경향신문  https://www.naver.com/main/list.naver?mode=LPO...\n",
       "1       국민일보  https://www.naver.com/main/list.naver?mode=LPO...\n",
       "2       동아일보  https://www.naver.com/main/list.naver?mode=LPO...\n",
       "3       문화일보  https://www.naver.com/main/list.naver?mode=LPO...\n",
       "4       서울신문  https://www.naver.com/main/list.naver?mode=LPO...\n",
       "..       ...                                                ...\n",
       "72      부산일보  https://www.naver.com/main/list.naver?mode=LPO...\n",
       "73  신화사 연합뉴스  https://www.naver.com/main/list.naver?mode=LPO...\n",
       "74    AP연합뉴스  https://www.naver.com/main/list.naver?mode=LPO...\n",
       "75   EPA연합뉴스  https://www.naver.com/main/list.naver?mode=LPO...\n",
       "76  언론사 최신기사  https://www.naver.com/main/list.naver?mode=LSD...\n",
       "\n",
       "[77 rows x 2 columns]"
      ]
     },
     "execution_count": 11,
     "metadata": {},
     "output_type": "execute_result"
    }
   ],
   "source": [
    "# 딕셔너리의 value는 리스트 형태로 주어야 함\n",
    "df = pd.DataFrame({'언론사': name_list, '링크' : link_list})\n",
    "df"
   ]
  },
  {
   "cell_type": "markdown",
   "id": "42915177",
   "metadata": {},
   "source": [
    "### csv파일로 저장"
   ]
  },
  {
   "cell_type": "code",
   "execution_count": 12,
   "id": "a26ee330",
   "metadata": {},
   "outputs": [],
   "source": [
    "df.to_csv('언론사 목록 .csv', encoding = 'CP949', index = False)"
   ]
  }
 ],
 "metadata": {
  "kernelspec": {
   "display_name": "Python 3 (ipykernel)",
   "language": "python",
   "name": "python3"
  },
  "language_info": {
   "codemirror_mode": {
    "name": "ipython",
    "version": 3
   },
   "file_extension": ".py",
   "mimetype": "text/x-python",
   "name": "python",
   "nbconvert_exporter": "python",
   "pygments_lexer": "ipython3",
   "version": "3.8.12"
  },
  "toc": {
   "base_numbering": 1,
   "nav_menu": {},
   "number_sections": false,
   "sideBar": true,
   "skip_h1_title": false,
   "title_cell": "Table of Contents",
   "title_sidebar": "Contents",
   "toc_cell": false,
   "toc_position": {
    "height": "calc(100% - 180px)",
    "left": "10px",
    "top": "150px",
    "width": "189.433px"
   },
   "toc_section_display": true,
   "toc_window_display": false
  }
 },
 "nbformat": 4,
 "nbformat_minor": 5
}
